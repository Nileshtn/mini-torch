{
 "cells": [
  {
   "cell_type": "code",
   "execution_count": 1,
   "id": "5403095c",
   "metadata": {},
   "outputs": [],
   "source": [
    "# Import necessary classes and functions from your mini-torch engine\n",
    "from mt_engin.mini_tensor import Tensor\n",
    "import mt_engin.mini_nn as nn\n",
    "from mt_engin.utils import (MiniOptimizer,\n",
    "                            mse_loss,\n",
    "                            target_generator,\n",
    "                            binary_round)"
   ]
  },
  {
   "cell_type": "code",
   "execution_count": 114,
   "id": "29a85221",
   "metadata": {},
   "outputs": [],
   "source": [
    "# Define a simple feedforward neural network by subclassing nn.Module\n",
    "class NuralNetwork(nn.Module):\n",
    "    def __init__(self, in_channel, out_channel):\n",
    "        super().__init__()  # Initialize the base Module\n",
    "        self.l1 = nn.Linear(in_channel, 8)   # First linear layer (input -> 4)\n",
    "        self.l2 = nn.Linear(8, 16)            # Second linear layer (4 -> 8)\n",
    "        self.l3 = nn.Linear(16, 8)            # Second linear layer (4 -> 8)\n",
    "        self.l4 = nn.Linear(8, 4)            # Third linear layer (8 -> 4)\n",
    "        self.l5 = nn.Linear(4, out_channel)  # Output layer (4 -> output)\n",
    "        self.relu = nn.Relu()              # (Commented) Example for adding activation\n",
    "\n",
    "    def forward(self, x):\n",
    "        # Defines the forward pass through the network\n",
    "        x = self.relu(self.l1(x))\n",
    "        x = self.relu(self.l2(x))\n",
    "        x = self.relu(self.l3(x))\n",
    "        x = self.relu(self.l4(x))\n",
    "        x = self.l5(x)\n",
    "        return x\n",
    "    \n",
    "# Instantiate the model and optimizer\n",
    "model = NuralNetwork(5, 1)           # Model expects input of size 5, outputs 1 value\n",
    "optimizer = MiniOptimizer(model, 0.001)  # Optimizer with small learning rate"
   ]
  },
  {
   "cell_type": "code",
   "execution_count": null,
   "id": "ae01a189",
   "metadata": {},
   "outputs": [],
   "source": [
    "optimizer.lr = 0.00001  # Adjust learning rate if needed"
   ]
  },
  {
   "cell_type": "code",
   "execution_count": 277,
   "id": "672fe75a",
   "metadata": {},
   "outputs": [
    {
     "name": "stdout",
     "output_type": "stream",
     "text": [
      "loss: Value(data=0.0008983530819508461, grad=0)\n",
      "loss: Value(data=4.725465957986472e-09, grad=0)\n"
     ]
    }
   ],
   "source": [
    "# Training loop\n",
    "epoch = 10000\n",
    "batch = 128\n",
    "\n",
    "try:\n",
    "    for epoch in range(epoch):\n",
    "        total_loss = Tensor(0)  # Accumulate loss over the batch\n",
    "        for _ in range(batch):  # For each sample in the batch\n",
    "            x, y = target_generator()      # Generate random input and target\n",
    "            out = model(x)                 # Forward pass\n",
    "            total_loss += mse_loss(out, y) # Compute and accumulate loss\n",
    "            break\n",
    "\n",
    "        optimizer.zero_grad()              # Reset gradients before backward pass\n",
    "        avg_loss = total_loss / batch         # Compute average loss over the batch\n",
    "        print(\"loss:\", avg_loss)          # Print loss for monitoring\n",
    "        if avg_loss.item() < 0.00001:\n",
    "            break\n",
    "        avg_loss.backward()                # Backpropagate to compute gradients\n",
    "        optimizer.step()                   # Update model parameters\n",
    "except KeyboardInterrupt:\n",
    "    print(\"Training interrupted by user.\")\n"
   ]
  },
  {
   "cell_type": "code",
   "execution_count": 300,
   "id": "b366cb58",
   "metadata": {},
   "outputs": [
    {
     "name": "stdout",
     "output_type": "stream",
     "text": [
      "1 1 0 1 0 target 1\n",
      "pred 1\n"
     ]
    }
   ],
   "source": [
    "# Test the trained model on a new random input\n",
    "x, y = target_generator()      # Generate random input and target\n",
    "out = model(x)                 # Forward pass\n",
    "out = binary_round(out)        # Convert output to binary (0 or 1)\n",
    "for i in x:\n",
    "    print(i.data, end=\" \")     # Print input values\n",
    "print(\"target\", y.data)        # Print target value\n",
    "print(\"pred\", out.data)        # Print predicted value"
   ]
  },
  {
   "cell_type": "code",
   "execution_count": null,
   "id": "5bfc5f26",
   "metadata": {},
   "outputs": [],
   "source": []
  }
 ],
 "metadata": {
  "kernelspec": {
   "display_name": "Python 3",
   "language": "python",
   "name": "python3"
  },
  "language_info": {
   "codemirror_mode": {
    "name": "ipython",
    "version": 3
   },
   "file_extension": ".py",
   "mimetype": "text/x-python",
   "name": "python",
   "nbconvert_exporter": "python",
   "pygments_lexer": "ipython3",
   "version": "3.10.16"
  }
 },
 "nbformat": 4,
 "nbformat_minor": 5
}
